{
 "cells": [
  {
   "cell_type": "code",
   "execution_count": 179,
   "metadata": {},
   "outputs": [],
   "source": [
    "import numpy as np\n",
    "import pandas as pd\n",
    "import seaborn as sns\n",
    "import matplotlib.pyplot as plt\n",
    "from scipy.stats import probplot\n",
    "from pandas.plotting import scatter_matrix\n",
    "#import missingno as msno\n",
    "from IPython.display import Markdown, display\n",
    "import statsmodels.api as sm\n",
    "from statsmodels.tools import add_constant as add_constant\n",
    "import statsmodels.formula.api as smf\n",
    "from sklearn.model_selection import train_test_split\n",
    "#from imblearn.over_sampling import SMOTE\n",
    "from patsy import dmatrices\n",
    "from sklearn.linear_model import LogisticRegression\n",
    "from sklearn import metrics\n",
    "from sklearn.model_selection import cross_val_score\n",
    "from datetime import date\n",
    "from datetime import datetime"
   ]
  },
  {
   "cell_type": "code",
   "execution_count": 180,
   "metadata": {},
   "outputs": [],
   "source": [
    "#df = pd.read_csv('https://raw.githubusercontent.com/MarlaGoodman/CMS-Project/main/flights.csv')\n",
    "#df = pd.read_csv('https://raw.githubusercontent.com/MarlaGoodman/CMS-Project/main/flights_2.csv')\n",
    "df = pd.read_csv('https://raw.githubusercontent.com/MarlaGoodman/CMS-Project/main/flights_model.csv')"
   ]
  },
  {
   "cell_type": "code",
   "execution_count": 181,
   "metadata": {},
   "outputs": [],
   "source": [
    "df['response_var'] = np.where(df['dep_delay']> 0, 1, 0)"
   ]
  },
  {
   "cell_type": "code",
   "execution_count": 182,
   "metadata": {},
   "outputs": [],
   "source": [
    "#df['time_hour']=pd.to_datetime(df['time_hour'])"
   ]
  },
  {
   "cell_type": "code",
   "execution_count": 183,
   "metadata": {},
   "outputs": [],
   "source": [
    "#s = pd.to_datetime(df['time_hour'])\n",
    "#day_df = s.groupby(s.dt.floor('d')).size().reset_index(name='count')\n",
    "#day_df.head()"
   ]
  },
  {
   "cell_type": "code",
   "execution_count": 184,
   "metadata": {},
   "outputs": [],
   "source": [
    "#df['time_hour_day']=df['time_hour'].dt.floor('d')"
   ]
  },
  {
   "cell_type": "code",
   "execution_count": 185,
   "metadata": {},
   "outputs": [],
   "source": [
    "#def flight_count_by_day(row):\n",
    "#    for i in range(len(df.month)):\n",
    "#        j = np.where(day_df['time_hour']==df['time_hour_day'][i])\n",
    "#        count = day_df['count'][j[0][0]]\n",
    "#        #print (i)\n",
    "#        return count"
   ]
  },
  {
   "cell_type": "code",
   "execution_count": 186,
   "metadata": {},
   "outputs": [],
   "source": [
    "#j= np.where(day_df['time_hour']==df['time_hour_day'][100150])\n",
    "#j[0][0]\n",
    "#count = day_df['count'][j[0][0]]\n",
    "#count"
   ]
  },
  {
   "cell_type": "code",
   "execution_count": 187,
   "metadata": {},
   "outputs": [],
   "source": [
    "#df['flight_count_by_day'] = df.apply(flight_count_by_day, axis=1)"
   ]
  },
  {
   "cell_type": "code",
   "execution_count": 188,
   "metadata": {},
   "outputs": [],
   "source": [
    "#df_flight_count_by_day = df['flight_count_by_day']\n",
    "#df_flight_count_by_day\n",
    "#print(type(df_flight_count_by_day))\n",
    "#pd.DataFrame(df_flight_count_by_day).groupby(df_flight_count_by_day)\n",
    "\n",
    "#grouped = df_flight_count_by_day.groupby(lambda x: df_flight_count_by_day[x])\n",
    "#pd.DataFrame(grouped)\n",
    "#df_flight_count_by_day.groupby(df_flight_count_by_day).size()\n"
   ]
  },
  {
   "cell_type": "code",
   "execution_count": 189,
   "metadata": {},
   "outputs": [],
   "source": [
    "#df.groupby(['carrier']).count()['month']"
   ]
  },
  {
   "cell_type": "code",
   "execution_count": 190,
   "metadata": {},
   "outputs": [],
   "source": [
    "#def weekday(row):\n",
    "#    for i in range(len(df.month)):\n",
    "#        return( date(2017, df['month'][i], df['day'][i]).isoweekday())"
   ]
  },
  {
   "cell_type": "code",
   "execution_count": 191,
   "metadata": {},
   "outputs": [],
   "source": [
    "#df['weekday'] = df.apply(weekday, axis=1)"
   ]
  },
  {
   "cell_type": "code",
   "execution_count": 192,
   "metadata": {},
   "outputs": [],
   "source": [
    "#def weekend(row):\n",
    "#    for i in range(len(df.month)):\n",
    "#        if(df['weekday'][i]==5):\n",
    "#            return 1\n",
    "#        elif(df['weekday'][i]==6):\n",
    "#            return 1\n",
    "#        elif (df['weekday'][i]==7):\n",
    "#            return 1\n",
    "#        else:\n",
    "#            return 0"
   ]
  },
  {
   "cell_type": "code",
   "execution_count": 193,
   "metadata": {},
   "outputs": [],
   "source": [
    "#df['weekend_bool'] = df.apply(weekend, axis=1)"
   ]
  },
  {
   "cell_type": "code",
   "execution_count": 194,
   "metadata": {},
   "outputs": [],
   "source": [
    "dummy_month = pd.get_dummies(df['month']).rename(columns=lambda x: 'Month_' + str(x))\n",
    "dummy_hour = pd.get_dummies(df['hour']).rename(columns=lambda x: 'Hour_' + str(x))\n",
    "#dummy.head()"
   ]
  },
  {
   "cell_type": "code",
   "execution_count": 195,
   "metadata": {
    "scrolled": true
   },
   "outputs": [
    {
     "data": {
      "text/html": [
       "<div>\n",
       "<style scoped>\n",
       "    .dataframe tbody tr th:only-of-type {\n",
       "        vertical-align: middle;\n",
       "    }\n",
       "\n",
       "    .dataframe tbody tr th {\n",
       "        vertical-align: top;\n",
       "    }\n",
       "\n",
       "    .dataframe thead th {\n",
       "        text-align: right;\n",
       "    }\n",
       "</style>\n",
       "<table border=\"1\" class=\"dataframe\">\n",
       "  <thead>\n",
       "    <tr style=\"text-align: right;\">\n",
       "      <th></th>\n",
       "      <th>dep_delay</th>\n",
       "      <th>month</th>\n",
       "      <th>hour</th>\n",
       "      <th>count_of_flight_by_day_carrier_origin</th>\n",
       "      <th>new_snow_bool</th>\n",
       "      <th>rain_bool</th>\n",
       "      <th>response_var</th>\n",
       "      <th>Month_1</th>\n",
       "      <th>Month_2</th>\n",
       "      <th>Month_3</th>\n",
       "      <th>...</th>\n",
       "      <th>Hour_14</th>\n",
       "      <th>Hour_15</th>\n",
       "      <th>Hour_16</th>\n",
       "      <th>Hour_17</th>\n",
       "      <th>Hour_18</th>\n",
       "      <th>Hour_19</th>\n",
       "      <th>Hour_20</th>\n",
       "      <th>Hour_21</th>\n",
       "      <th>Hour_22</th>\n",
       "      <th>Hour_23</th>\n",
       "    </tr>\n",
       "  </thead>\n",
       "  <tbody>\n",
       "    <tr>\n",
       "      <th>0</th>\n",
       "      <td>193.0</td>\n",
       "      <td>10</td>\n",
       "      <td>21</td>\n",
       "      <td>145</td>\n",
       "      <td>0</td>\n",
       "      <td>0</td>\n",
       "      <td>1</td>\n",
       "      <td>0</td>\n",
       "      <td>0</td>\n",
       "      <td>0</td>\n",
       "      <td>...</td>\n",
       "      <td>0</td>\n",
       "      <td>0</td>\n",
       "      <td>0</td>\n",
       "      <td>0</td>\n",
       "      <td>0</td>\n",
       "      <td>0</td>\n",
       "      <td>0</td>\n",
       "      <td>1</td>\n",
       "      <td>0</td>\n",
       "      <td>0</td>\n",
       "    </tr>\n",
       "    <tr>\n",
       "      <th>1</th>\n",
       "      <td>-6.0</td>\n",
       "      <td>10</td>\n",
       "      <td>5</td>\n",
       "      <td>145</td>\n",
       "      <td>0</td>\n",
       "      <td>0</td>\n",
       "      <td>0</td>\n",
       "      <td>0</td>\n",
       "      <td>0</td>\n",
       "      <td>0</td>\n",
       "      <td>...</td>\n",
       "      <td>0</td>\n",
       "      <td>0</td>\n",
       "      <td>0</td>\n",
       "      <td>0</td>\n",
       "      <td>0</td>\n",
       "      <td>0</td>\n",
       "      <td>0</td>\n",
       "      <td>0</td>\n",
       "      <td>0</td>\n",
       "      <td>0</td>\n",
       "    </tr>\n",
       "    <tr>\n",
       "      <th>2</th>\n",
       "      <td>-1.0</td>\n",
       "      <td>10</td>\n",
       "      <td>5</td>\n",
       "      <td>25</td>\n",
       "      <td>0</td>\n",
       "      <td>0</td>\n",
       "      <td>0</td>\n",
       "      <td>0</td>\n",
       "      <td>0</td>\n",
       "      <td>0</td>\n",
       "      <td>...</td>\n",
       "      <td>0</td>\n",
       "      <td>0</td>\n",
       "      <td>0</td>\n",
       "      <td>0</td>\n",
       "      <td>0</td>\n",
       "      <td>0</td>\n",
       "      <td>0</td>\n",
       "      <td>0</td>\n",
       "      <td>0</td>\n",
       "      <td>0</td>\n",
       "    </tr>\n",
       "    <tr>\n",
       "      <th>3</th>\n",
       "      <td>-4.0</td>\n",
       "      <td>10</td>\n",
       "      <td>5</td>\n",
       "      <td>24</td>\n",
       "      <td>0</td>\n",
       "      <td>0</td>\n",
       "      <td>0</td>\n",
       "      <td>0</td>\n",
       "      <td>0</td>\n",
       "      <td>0</td>\n",
       "      <td>...</td>\n",
       "      <td>0</td>\n",
       "      <td>0</td>\n",
       "      <td>0</td>\n",
       "      <td>0</td>\n",
       "      <td>0</td>\n",
       "      <td>0</td>\n",
       "      <td>0</td>\n",
       "      <td>0</td>\n",
       "      <td>0</td>\n",
       "      <td>0</td>\n",
       "    </tr>\n",
       "    <tr>\n",
       "      <th>4</th>\n",
       "      <td>-8.0</td>\n",
       "      <td>10</td>\n",
       "      <td>6</td>\n",
       "      <td>8</td>\n",
       "      <td>0</td>\n",
       "      <td>0</td>\n",
       "      <td>0</td>\n",
       "      <td>0</td>\n",
       "      <td>0</td>\n",
       "      <td>0</td>\n",
       "      <td>...</td>\n",
       "      <td>0</td>\n",
       "      <td>0</td>\n",
       "      <td>0</td>\n",
       "      <td>0</td>\n",
       "      <td>0</td>\n",
       "      <td>0</td>\n",
       "      <td>0</td>\n",
       "      <td>0</td>\n",
       "      <td>0</td>\n",
       "      <td>0</td>\n",
       "    </tr>\n",
       "  </tbody>\n",
       "</table>\n",
       "<p>5 rows × 39 columns</p>\n",
       "</div>"
      ],
      "text/plain": [
       "   dep_delay  month  hour  count_of_flight_by_day_carrier_origin  \\\n",
       "0      193.0     10    21                                    145   \n",
       "1       -6.0     10     5                                    145   \n",
       "2       -1.0     10     5                                     25   \n",
       "3       -4.0     10     5                                     24   \n",
       "4       -8.0     10     6                                      8   \n",
       "\n",
       "   new_snow_bool  rain_bool  response_var  Month_1  Month_2  Month_3  ...  \\\n",
       "0              0          0             1        0        0        0  ...   \n",
       "1              0          0             0        0        0        0  ...   \n",
       "2              0          0             0        0        0        0  ...   \n",
       "3              0          0             0        0        0        0  ...   \n",
       "4              0          0             0        0        0        0  ...   \n",
       "\n",
       "   Hour_14  Hour_15  Hour_16  Hour_17  Hour_18  Hour_19  Hour_20  Hour_21  \\\n",
       "0        0        0        0        0        0        0        0        1   \n",
       "1        0        0        0        0        0        0        0        0   \n",
       "2        0        0        0        0        0        0        0        0   \n",
       "3        0        0        0        0        0        0        0        0   \n",
       "4        0        0        0        0        0        0        0        0   \n",
       "\n",
       "   Hour_22  Hour_23  \n",
       "0        0        0  \n",
       "1        0        0  \n",
       "2        0        0  \n",
       "3        0        0  \n",
       "4        0        0  \n",
       "\n",
       "[5 rows x 39 columns]"
      ]
     },
     "execution_count": 195,
     "metadata": {},
     "output_type": "execute_result"
    }
   ],
   "source": [
    "df = pd.concat([df,dummy_month], axis=1)\n",
    "df = pd.concat([df,dummy_hour], axis=1)\n",
    "\n",
    "df.head()"
   ]
  },
  {
   "cell_type": "code",
   "execution_count": 196,
   "metadata": {},
   "outputs": [],
   "source": [
    "X = df['count_of_flight_by_day_carrier_origin']"
   ]
  },
  {
   "cell_type": "code",
   "execution_count": 197,
   "metadata": {},
   "outputs": [],
   "source": [
    "X_manual_scaled = (X - X.min(axis=0)) / (X.max(axis=0) - X.min(axis=0))"
   ]
  },
  {
   "cell_type": "code",
   "execution_count": 198,
   "metadata": {
    "scrolled": true
   },
   "outputs": [
    {
     "data": {
      "text/plain": [
       "0         0.813559\n",
       "1         0.813559\n",
       "2         0.135593\n",
       "3         0.129944\n",
       "4         0.039548\n",
       "            ...   \n",
       "303743    0.112994\n",
       "303744    0.593220\n",
       "303745    0.593220\n",
       "303746    0.621469\n",
       "303747    0.621469\n",
       "Name: count_of_flight_by_day_carrier_origin, Length: 303748, dtype: float64"
      ]
     },
     "execution_count": 198,
     "metadata": {},
     "output_type": "execute_result"
    }
   ],
   "source": [
    "X_manual_scaled"
   ]
  },
  {
   "cell_type": "code",
   "execution_count": 199,
   "metadata": {},
   "outputs": [],
   "source": [
    "del df['count_of_flight_by_day_carrier_origin']"
   ]
  },
  {
   "cell_type": "code",
   "execution_count": 200,
   "metadata": {},
   "outputs": [],
   "source": [
    "df = pd.concat([df,X_manual_scaled], axis=1)"
   ]
  },
  {
   "cell_type": "code",
   "execution_count": 201,
   "metadata": {},
   "outputs": [
    {
     "name": "stdout",
     "output_type": "stream",
     "text": [
      "<class 'pandas.core.frame.DataFrame'>\n",
      "RangeIndex: 303748 entries, 0 to 303747\n",
      "Data columns (total 39 columns):\n",
      " #   Column                                 Non-Null Count   Dtype  \n",
      "---  ------                                 --------------   -----  \n",
      " 0   dep_delay                              295934 non-null  float64\n",
      " 1   month                                  303748 non-null  int64  \n",
      " 2   hour                                   303748 non-null  int64  \n",
      " 3   new_snow_bool                          303748 non-null  int64  \n",
      " 4   rain_bool                              303748 non-null  int64  \n",
      " 5   response_var                           303748 non-null  int32  \n",
      " 6   Month_1                                303748 non-null  uint8  \n",
      " 7   Month_2                                303748 non-null  uint8  \n",
      " 8   Month_3                                303748 non-null  uint8  \n",
      " 9   Month_4                                303748 non-null  uint8  \n",
      " 10  Month_5                                303748 non-null  uint8  \n",
      " 11  Month_6                                303748 non-null  uint8  \n",
      " 12  Month_7                                303748 non-null  uint8  \n",
      " 13  Month_8                                303748 non-null  uint8  \n",
      " 14  Month_9                                303748 non-null  uint8  \n",
      " 15  Month_10                               303748 non-null  uint8  \n",
      " 16  Month_11                               303748 non-null  uint8  \n",
      " 17  Month_12                               303748 non-null  uint8  \n",
      " 18  Hour_1                                 303748 non-null  uint8  \n",
      " 19  Hour_5                                 303748 non-null  uint8  \n",
      " 20  Hour_6                                 303748 non-null  uint8  \n",
      " 21  Hour_7                                 303748 non-null  uint8  \n",
      " 22  Hour_8                                 303748 non-null  uint8  \n",
      " 23  Hour_9                                 303748 non-null  uint8  \n",
      " 24  Hour_10                                303748 non-null  uint8  \n",
      " 25  Hour_11                                303748 non-null  uint8  \n",
      " 26  Hour_12                                303748 non-null  uint8  \n",
      " 27  Hour_13                                303748 non-null  uint8  \n",
      " 28  Hour_14                                303748 non-null  uint8  \n",
      " 29  Hour_15                                303748 non-null  uint8  \n",
      " 30  Hour_16                                303748 non-null  uint8  \n",
      " 31  Hour_17                                303748 non-null  uint8  \n",
      " 32  Hour_18                                303748 non-null  uint8  \n",
      " 33  Hour_19                                303748 non-null  uint8  \n",
      " 34  Hour_20                                303748 non-null  uint8  \n",
      " 35  Hour_21                                303748 non-null  uint8  \n",
      " 36  Hour_22                                303748 non-null  uint8  \n",
      " 37  Hour_23                                303748 non-null  uint8  \n",
      " 38  count_of_flight_by_day_carrier_origin  303748 non-null  float64\n",
      "dtypes: float64(2), int32(1), int64(4), uint8(32)\n",
      "memory usage: 24.3 MB\n"
     ]
    }
   ],
   "source": [
    "#df = df.drop(df.columns[[17]], axis=1)\n",
    "df.info()"
   ]
  },
  {
   "cell_type": "code",
   "execution_count": 202,
   "metadata": {},
   "outputs": [],
   "source": [
    "predictors = []"
   ]
  },
  {
   "cell_type": "code",
   "execution_count": 203,
   "metadata": {},
   "outputs": [],
   "source": [
    "#predictors.append('hour')"
   ]
  },
  {
   "cell_type": "code",
   "execution_count": 204,
   "metadata": {},
   "outputs": [],
   "source": [
    "predictors.append('count_of_flight_by_day_carrier_origin')"
   ]
  },
  {
   "cell_type": "code",
   "execution_count": 205,
   "metadata": {},
   "outputs": [],
   "source": [
    "#predictors.append('flight_count_by_day')"
   ]
  },
  {
   "cell_type": "code",
   "execution_count": 206,
   "metadata": {},
   "outputs": [],
   "source": [
    "dummy_list = list(dummy_month.columns)\n",
    "dummy_list.extend(list(dummy_hour.columns))"
   ]
  },
  {
   "cell_type": "code",
   "execution_count": 207,
   "metadata": {},
   "outputs": [],
   "source": [
    "predictors.extend(dummy_list)"
   ]
  },
  {
   "cell_type": "code",
   "execution_count": 208,
   "metadata": {},
   "outputs": [],
   "source": [
    "predictors.remove('Hour_1')"
   ]
  },
  {
   "cell_type": "code",
   "execution_count": 209,
   "metadata": {},
   "outputs": [],
   "source": [
    "predictors.append('rain_bool')"
   ]
  },
  {
   "cell_type": "code",
   "execution_count": 210,
   "metadata": {},
   "outputs": [],
   "source": [
    "predictors.append('new_snow_bool')"
   ]
  },
  {
   "cell_type": "code",
   "execution_count": 211,
   "metadata": {},
   "outputs": [
    {
     "data": {
      "text/plain": [
       "['count_of_flight_by_day_carrier_origin',\n",
       " 'Month_1',\n",
       " 'Month_2',\n",
       " 'Month_3',\n",
       " 'Month_4',\n",
       " 'Month_5',\n",
       " 'Month_6',\n",
       " 'Month_7',\n",
       " 'Month_8',\n",
       " 'Month_9',\n",
       " 'Month_10',\n",
       " 'Month_11',\n",
       " 'Month_12',\n",
       " 'Hour_5',\n",
       " 'Hour_6',\n",
       " 'Hour_7',\n",
       " 'Hour_8',\n",
       " 'Hour_9',\n",
       " 'Hour_10',\n",
       " 'Hour_11',\n",
       " 'Hour_12',\n",
       " 'Hour_13',\n",
       " 'Hour_14',\n",
       " 'Hour_15',\n",
       " 'Hour_16',\n",
       " 'Hour_17',\n",
       " 'Hour_18',\n",
       " 'Hour_19',\n",
       " 'Hour_20',\n",
       " 'Hour_21',\n",
       " 'Hour_22',\n",
       " 'Hour_23',\n",
       " 'rain_bool',\n",
       " 'new_snow_bool']"
      ]
     },
     "execution_count": 211,
     "metadata": {},
     "output_type": "execute_result"
    }
   ],
   "source": [
    "predictors"
   ]
  },
  {
   "cell_type": "code",
   "execution_count": 212,
   "metadata": {},
   "outputs": [
    {
     "data": {
      "text/plain": [
       "LogisticRegression()"
      ]
     },
     "execution_count": 212,
     "metadata": {},
     "output_type": "execute_result"
    }
   ],
   "source": [
    "X = df[predictors]\n",
    "y = df['response_var']\n",
    "\n",
    "#creating train and testing set\n",
    "X_train, X_test, y_train, y_test = train_test_split(X, y, test_size = 0.2, random_state = 0, stratify = y)\n",
    "\n",
    "#Fitting Logistic Regression to the Training set with the first set of predictors.\n",
    "classifier1 = LogisticRegression()\n",
    "classifier1.fit(X_train, y_train)"
   ]
  },
  {
   "cell_type": "code",
   "execution_count": 213,
   "metadata": {
    "scrolled": true
   },
   "outputs": [
    {
     "name": "stdout",
     "output_type": "stream",
     "text": [
      "['count_of_flight_by_day_carrier_origin', 'Month_1', 'Month_2', 'Month_3', 'Month_4', 'Month_5', 'Month_6', 'Month_7', 'Month_8', 'Month_9', 'Month_10', 'Month_11', 'Month_12', 'Hour_5', 'Hour_6', 'Hour_7', 'Hour_8', 'Hour_9', 'Hour_10', 'Hour_11', 'Hour_12', 'Hour_13', 'Hour_14', 'Hour_15', 'Hour_16', 'Hour_17', 'Hour_18', 'Hour_19', 'Hour_20', 'Hour_21', 'Hour_22', 'Hour_23', 'rain_bool', 'new_snow_bool']\n",
      "[[ 0.15010136  0.07646878 -0.15120456  0.11641097  0.08197907  0.20998885\n",
      "   0.19339827  0.16238915 -0.01676285 -0.45005143 -0.33968132 -0.52952467\n",
      "  -0.00920521 -1.20506901 -1.07336366 -0.91862597 -0.66569663 -0.45571934\n",
      "  -0.43598836 -0.36506463 -0.33529319 -0.10938253  0.10263517  0.27597926\n",
      "   0.34308646  0.48216158  0.55364146  0.65716012  0.71198064  0.7385915\n",
      "   0.56564377  0.47511003  0.26814074  0.41633288]]\n"
     ]
    }
   ],
   "source": [
    "\n",
    "\n",
    "#examine the model coefficients for the explanatory variables\n",
    "print(predictors)\n",
    "print(classifier1.coef_)\n",
    "\n",
    "# Cross validation.\n",
    "accuracy_list = []\n",
    "recall_list = []\n",
    "auc_list = []\n",
    "f1_list = []\n",
    "precision_list = []\n",
    "\n",
    "accuracy = cross_val_score(classifier1, X_train, y_train, scoring = \"accuracy\", cv = 10)\n",
    "recall = cross_val_score(classifier1, X_train, y_train, scoring = \"recall\", cv = 10)\n",
    "auc = cross_val_score(classifier1, X_train, y_train, scoring = \"roc_auc\", cv = 10)\n",
    "f1 = cross_val_score(classifier1, X_train, y_train, scoring = \"f1\", cv = 10)\n",
    "precision = cross_val_score(classifier1, X_train, y_train, scoring = \"precision\", cv = 10)\n",
    "\n",
    "accuracy_list.append(accuracy.mean())\n",
    "recall_list.append(recall.mean())\n",
    "auc_list.append(auc.mean())\n",
    "f1_list.append(f1.mean())\n",
    "precision_list.append(precision.mean())"
   ]
  },
  {
   "cell_type": "code",
   "execution_count": 214,
   "metadata": {
    "scrolled": false
   },
   "outputs": [
    {
     "data": {
      "text/plain": [
       "[0.6658079461685921]"
      ]
     },
     "execution_count": 214,
     "metadata": {},
     "output_type": "execute_result"
    }
   ],
   "source": [
    "accuracy_list"
   ]
  },
  {
   "cell_type": "code",
   "execution_count": 215,
   "metadata": {},
   "outputs": [
    {
     "data": {
      "text/plain": [
       "[0.3419335969196443]"
      ]
     },
     "execution_count": 215,
     "metadata": {},
     "output_type": "execute_result"
    }
   ],
   "source": [
    "recall_list"
   ]
  },
  {
   "cell_type": "code",
   "execution_count": 216,
   "metadata": {
    "scrolled": true
   },
   "outputs": [
    {
     "data": {
      "text/plain": [
       "[0.6766637274068257]"
      ]
     },
     "execution_count": 216,
     "metadata": {},
     "output_type": "execute_result"
    }
   ],
   "source": [
    "auc_list"
   ]
  },
  {
   "cell_type": "code",
   "execution_count": 217,
   "metadata": {},
   "outputs": [
    {
     "data": {
      "text/plain": [
       "[0.4260171745958797]"
      ]
     },
     "execution_count": 217,
     "metadata": {},
     "output_type": "execute_result"
    }
   ],
   "source": [
    "f1_list"
   ]
  },
  {
   "cell_type": "code",
   "execution_count": 218,
   "metadata": {
    "scrolled": false
   },
   "outputs": [
    {
     "data": {
      "text/plain": [
       "[0.5649661168856911]"
      ]
     },
     "execution_count": 218,
     "metadata": {},
     "output_type": "execute_result"
    }
   ],
   "source": [
    "precision_list"
   ]
  },
  {
   "cell_type": "code",
   "execution_count": 219,
   "metadata": {
    "scrolled": false
   },
   "outputs": [
    {
     "name": "stdout",
     "output_type": "stream",
     "text": [
      "Optimization terminated successfully.\n",
      "         Current function value: 0.609811\n",
      "         Iterations 6\n",
      "                                   Results: Logit\n",
      "=====================================================================================\n",
      "Model:                     Logit                  Pseudo R-squared:       0.069      \n",
      "Dependent Variable:        response_var           AIC:                    370525.6119\n",
      "Date:                      2021-04-21 23:32       BIC:                    370886.8263\n",
      "No. Observations:          303748                 Log-Likelihood:         -1.8523e+05\n",
      "Df Model:                  33                     LL-Null:                -1.9894e+05\n",
      "Df Residuals:              303714                 LLR p-value:            0.0000     \n",
      "Converged:                 1.0000                 Scale:                  1.0000     \n",
      "No. Iterations:            6.0000                                                    \n",
      "-------------------------------------------------------------------------------------\n",
      "                                       Coef.  Std.Err.    z    P>|z|   [0.025  0.975]\n",
      "-------------------------------------------------------------------------------------\n",
      "count_of_flight_by_day_carrier_origin  0.1439   0.0146  9.8430 0.0000  0.1152  0.1726\n",
      "Month_1                                0.4770   1.0003  0.4769 0.6334 -1.4835  2.4376\n",
      "Month_2                                0.2315   1.0003  0.2314 0.8170 -1.7292  2.1921\n",
      "Month_3                                0.5044   1.0003  0.5042 0.6141 -1.4562  2.4650\n",
      "Month_4                                0.4768   1.0003  0.4767 0.6336 -1.4837  2.4374\n",
      "Month_5                                0.6123   1.0003  0.6121 0.5404 -1.3482  2.5729\n",
      "Month_6                                0.5866   1.0003  0.5864 0.5576 -1.3740  2.5472\n",
      "Month_7                                0.5544   1.0003  0.5542 0.5794 -1.4062  2.5149\n",
      "Month_8                                0.3758   1.0003  0.3757 0.7072 -1.5848  2.3364\n",
      "Month_9                               -0.0544   1.0003 -0.0544 0.9566 -2.0150  1.9062\n",
      "Month_10                               0.0604   1.0003  0.0604 0.9518 -1.9002  2.0210\n",
      "Month_11                              -0.1411   1.0001 -0.1410 0.8878 -2.1012  1.8191\n",
      "Month_12                               0.3725   1.0003  0.3724 0.7096 -1.5881  2.3331\n",
      "Hour_5                                -2.2317   1.0013 -2.2287 0.0258 -4.1942 -0.2691\n",
      "Hour_6                                -2.1495   1.0003 -2.1488 0.0317 -4.1101 -0.1889\n",
      "Hour_7                                -1.9687   1.0003 -1.9681 0.0491 -3.9292 -0.0082\n",
      "Hour_8                                -1.7198   1.0003 -1.7193 0.0856 -3.6802  0.2407\n",
      "Hour_9                                -1.4891   1.0003 -1.4887 0.1366 -3.4497  0.4714\n",
      "Hour_10                               -1.4999   1.0003 -1.4994 0.1338 -3.4605  0.4608\n",
      "Hour_11                               -1.4203   1.0003 -1.4199 0.1556 -3.3808  0.5402\n",
      "Hour_12                               -1.3867   1.0003 -1.3862 0.1657 -3.3472  0.5739\n",
      "Hour_13                               -1.1621   1.0003 -1.1618 0.2453 -3.1227  0.7984\n",
      "Hour_14                               -0.9481   1.0003 -0.9479 0.3432 -2.9086  1.0124\n",
      "Hour_15                               -0.7871   1.0002 -0.7869 0.4313 -2.7476  1.1733\n",
      "Hour_16                               -0.7170   1.0003 -0.7168 0.4735 -2.6774  1.2435\n",
      "Hour_17                               -0.5716   1.0003 -0.5715 0.5677 -2.5321  1.3889\n",
      "Hour_18                               -0.5009   1.0002 -0.5008 0.6165 -2.4614  1.4595\n",
      "Hour_19                               -0.3950   1.0002 -0.3949 0.6929 -2.3554  1.5655\n",
      "Hour_20                               -0.3400   1.0003 -0.3399 0.7340 -2.3004  1.6205\n",
      "Hour_21                               -0.3009   1.0003 -0.3008 0.7635 -2.2615  1.6596\n",
      "Hour_22                               -0.4764   1.0007 -0.4761 0.6340 -2.4377  1.4849\n",
      "Hour_23                               -0.5912   1.0016 -0.5903 0.5550 -2.5542  1.3718\n",
      "rain_bool                              0.2705   0.0088 30.8552 0.0000  0.2533  0.2877\n",
      "new_snow_bool                          0.4283   0.0231 18.5465 0.0000  0.3830  0.4735\n",
      "=====================================================================================\n",
      "\n"
     ]
    }
   ],
   "source": [
    "import statsmodels.api as sm\n",
    "logit_model=sm.Logit(y,X)\n",
    "result=logit_model.fit()\n",
    "print(result.summary2())"
   ]
  },
  {
   "cell_type": "code",
   "execution_count": 220,
   "metadata": {},
   "outputs": [
    {
     "data": {
      "text/plain": [
       "array([[32990,  5725],\n",
       "       [14460,  7575]], dtype=int64)"
      ]
     },
     "execution_count": 220,
     "metadata": {},
     "output_type": "execute_result"
    }
   ],
   "source": [
    "from sklearn.metrics import confusion_matrix\n",
    "y_pred = classifier1.predict(X_test)\n",
    "confusion_matrix(y_test, y_pred)"
   ]
  },
  {
   "cell_type": "code",
   "execution_count": 221,
   "metadata": {},
   "outputs": [],
   "source": [
    "from sklearn.ensemble import RandomForestClassifier\n",
    "from sklearn.model_selection import GridSearchCV\n",
    "\n",
    "#defining the scorer\n",
    "f1_scorer = metrics.make_scorer(metrics.f1_score)\n",
    "parameters = {'max_depth':np.arange(5,10),'class_weight':['balanced','none']}"
   ]
  },
  {
   "cell_type": "code",
   "execution_count": 222,
   "metadata": {},
   "outputs": [
    {
     "data": {
      "text/plain": [
       "{'class_weight': 'balanced', 'max_depth': 6}"
      ]
     },
     "execution_count": 222,
     "metadata": {},
     "output_type": "execute_result"
    }
   ],
   "source": [
    "# perform grid search to find best hyperparameters\n",
    "random_f = RandomForestClassifier()\n",
    "grid = GridSearchCV(random_f, parameters, scoring = f1_scorer, cv = 5, n_jobs = -1)\n",
    "grid.fit(X_train, y_train)\n",
    "model_est = grid.best_estimator_\n",
    "model_params = grid.best_params_\n",
    "grid.best_params_"
   ]
  },
  {
   "cell_type": "code",
   "execution_count": 226,
   "metadata": {},
   "outputs": [
    {
     "data": {
      "text/plain": [
       "RandomForestClassifier(class_weight='balanced', max_depth=6, random_state=42)"
      ]
     },
     "execution_count": 226,
     "metadata": {},
     "output_type": "execute_result"
    }
   ],
   "source": [
    "# Random forest with my favourite state, state 42\n",
    "rfc = RandomForestClassifier(random_state = 42, class_weight = 'balanced', max_depth = 6)\n",
    "rfc.fit(X_train, y_train)"
   ]
  },
  {
   "cell_type": "code",
   "execution_count": 227,
   "metadata": {},
   "outputs": [],
   "source": [
    "# Storing in the results\n",
    "recall_list.append(np.mean(cross_val_score(rfc,  X_train, y_train, scoring = 'recall', cv = 5)))\n",
    "f1_list.append(np.mean(cross_val_score(rfc,  X_train, y_train, scoring = 'f1', cv = 5)))\n",
    "precision_list.append(np.mean(cross_val_score(rfc,  X_train, y_train, scoring = 'precision', cv = 5)))\n",
    "accuracy_list.append(np.mean(cross_val_score(rfc,  X_train, y_train, scoring = 'accuracy', cv = 5)))\n",
    "auc_list.append(np.mean(cross_val_score(rfc, X_train, y_train, scoring = \"roc_auc\", cv = 5)))"
   ]
  },
  {
   "cell_type": "code",
   "execution_count": 228,
   "metadata": {},
   "outputs": [],
   "source": [
    "# Metrics for testing set\n",
    "recall_testing = []\n",
    "f1_testing = []\n",
    "precision_testing = []\n",
    "acc_testing = []"
   ]
  },
  {
   "cell_type": "code",
   "execution_count": 229,
   "metadata": {},
   "outputs": [
    {
     "data": {
      "text/plain": [
       "array([[20262, 18453],\n",
       "       [ 6090, 15945]], dtype=int64)"
      ]
     },
     "execution_count": 229,
     "metadata": {},
     "output_type": "execute_result"
    }
   ],
   "source": [
    "# on the testing set and store results\n",
    "y_pred = rfc.predict(X_test)\n",
    "precision_testing.append(np.mean(metrics.precision_score(y_test, y_pred)))\n",
    "recall_testing.append(np.mean(metrics.recall_score(y_test, y_pred)))\n",
    "f1_testing.append(np.mean(metrics.f1_score(y_test, y_pred)))\n",
    "acc_testing.append(np.mean(metrics.accuracy_score(y_test,y_pred)))\n",
    "confusion_matrix(y_test, y_pred)"
   ]
  },
  {
   "cell_type": "code",
   "execution_count": 230,
   "metadata": {
    "scrolled": true
   },
   "outputs": [
    {
     "name": "stdout",
     "output_type": "stream",
     "text": [
      "\t \t The Model Metric Matrix for the training set\n"
     ]
    },
    {
     "data": {
      "text/html": [
       "<div>\n",
       "<style scoped>\n",
       "    .dataframe tbody tr th:only-of-type {\n",
       "        vertical-align: middle;\n",
       "    }\n",
       "\n",
       "    .dataframe tbody tr th {\n",
       "        vertical-align: top;\n",
       "    }\n",
       "\n",
       "    .dataframe thead th {\n",
       "        text-align: right;\n",
       "    }\n",
       "</style>\n",
       "<table border=\"1\" class=\"dataframe\">\n",
       "  <thead>\n",
       "    <tr style=\"text-align: right;\">\n",
       "      <th></th>\n",
       "      <th>Model #</th>\n",
       "      <th>Recall</th>\n",
       "      <th>Accuracy</th>\n",
       "      <th>Precision</th>\n",
       "      <th>AUC</th>\n",
       "      <th>F1_score</th>\n",
       "    </tr>\n",
       "  </thead>\n",
       "  <tbody>\n",
       "    <tr>\n",
       "      <th>0</th>\n",
       "      <td>Log Regression</td>\n",
       "      <td>0.341934</td>\n",
       "      <td>0.665808</td>\n",
       "      <td>0.564966</td>\n",
       "      <td>0.676664</td>\n",
       "      <td>0.426017</td>\n",
       "    </tr>\n",
       "    <tr>\n",
       "      <th>1</th>\n",
       "      <td>Random Forest Model</td>\n",
       "      <td>0.721820</td>\n",
       "      <td>0.599630</td>\n",
       "      <td>0.466460</td>\n",
       "      <td>0.672469</td>\n",
       "      <td>0.566689</td>\n",
       "    </tr>\n",
       "  </tbody>\n",
       "</table>\n",
       "</div>"
      ],
      "text/plain": [
       "                Model #    Recall  Accuracy  Precision       AUC  F1_score\n",
       "0        Log Regression  0.341934  0.665808   0.564966  0.676664  0.426017\n",
       "1  Random Forest Model   0.721820  0.599630   0.466460  0.672469  0.566689"
      ]
     },
     "execution_count": 230,
     "metadata": {},
     "output_type": "execute_result"
    }
   ],
   "source": [
    "\n",
    "print(\"\\t \\t The Model Metric Matrix for the training set\")\n",
    "# Cross validation.\n",
    "metrics_summary = pd.DataFrame()\n",
    "metrics_summary['Model #'] = [ 'Log Regression', 'Random Forest Model ']\n",
    "metrics_summary['Recall'] = recall_list\n",
    "metrics_summary['Accuracy'] = accuracy_list\n",
    "metrics_summary['Precision'] = precision_list\n",
    "metrics_summary['AUC'] = auc_list\n",
    "metrics_summary['F1_score'] = f1_list\n",
    "metrics_summary1 = metrics_summary.copy()\n",
    "metrics_summary1"
   ]
  },
  {
   "cell_type": "code",
   "execution_count": 231,
   "metadata": {},
   "outputs": [
    {
     "data": {
      "text/plain": [
       "0.3627085610440233"
      ]
     },
     "execution_count": 231,
     "metadata": {},
     "output_type": "execute_result"
    }
   ],
   "source": [
    "sum(df['response_var'])/df['response_var'].count()"
   ]
  }
 ],
 "metadata": {
  "kernelspec": {
   "display_name": "Python 3",
   "language": "python",
   "name": "python3"
  },
  "language_info": {
   "codemirror_mode": {
    "name": "ipython",
    "version": 3
   },
   "file_extension": ".py",
   "mimetype": "text/x-python",
   "name": "python",
   "nbconvert_exporter": "python",
   "pygments_lexer": "ipython3",
   "version": "3.8.3"
  }
 },
 "nbformat": 4,
 "nbformat_minor": 4
}
