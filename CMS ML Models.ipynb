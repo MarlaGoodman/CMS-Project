{
 "cells": [
  {
   "cell_type": "code",
   "execution_count": 320,
   "metadata": {},
   "outputs": [],
   "source": [
    "import numpy as np\n",
    "import pandas as pd\n",
    "import seaborn as sns\n",
    "import matplotlib.pyplot as plt\n",
    "from scipy.stats import probplot\n",
    "from pandas.plotting import scatter_matrix\n",
    "#import missingno as msno\n",
    "from IPython.display import Markdown, display\n",
    "import statsmodels.api as sm\n",
    "from statsmodels.tools import add_constant as add_constant\n",
    "import statsmodels.formula.api as smf\n",
    "from sklearn.model_selection import train_test_split\n",
    "#from imblearn.over_sampling import SMOTE\n",
    "from patsy import dmatrices\n",
    "from sklearn.linear_model import LogisticRegression\n",
    "from sklearn import metrics\n",
    "from sklearn.model_selection import cross_val_score\n",
    "from datetime import date\n",
    "from datetime import datetime"
   ]
  },
  {
   "cell_type": "code",
   "execution_count": 321,
   "metadata": {},
   "outputs": [],
   "source": [
    "df = pd.read_csv('https://raw.githubusercontent.com/MarlaGoodman/CMS-Project/main/flights_model.csv')"
   ]
  },
  {
   "cell_type": "code",
   "execution_count": 322,
   "metadata": {},
   "outputs": [],
   "source": [
    "df['response_var'] = np.where(df['dep_delay']> 0, 1, 0)"
   ]
  },
  {
   "cell_type": "code",
   "execution_count": 323,
   "metadata": {},
   "outputs": [],
   "source": [
    "dummy_month = pd.get_dummies(df['month']).rename(columns=lambda x: 'Month_' + str(x))\n",
    "dummy_hour = pd.get_dummies(df['hour']).rename(columns=lambda x: 'Hour_' + str(x))"
   ]
  },
  {
   "cell_type": "code",
   "execution_count": 324,
   "metadata": {
    "scrolled": true
   },
   "outputs": [],
   "source": [
    "df = pd.concat([df,dummy_month], axis=1)\n",
    "df = pd.concat([df,dummy_hour], axis=1)"
   ]
  },
  {
   "cell_type": "code",
   "execution_count": 325,
   "metadata": {},
   "outputs": [],
   "source": [
    "X = df['count_of_flight_by_day_carrier_origin']"
   ]
  },
  {
   "cell_type": "code",
   "execution_count": 326,
   "metadata": {},
   "outputs": [],
   "source": [
    "X_manual_scaled = (X - X.min(axis=0)) / (X.max(axis=0) - X.min(axis=0))"
   ]
  },
  {
   "cell_type": "code",
   "execution_count": 327,
   "metadata": {},
   "outputs": [],
   "source": [
    "del df['count_of_flight_by_day_carrier_origin']"
   ]
  },
  {
   "cell_type": "code",
   "execution_count": 328,
   "metadata": {},
   "outputs": [],
   "source": [
    "df = pd.concat([df,X_manual_scaled], axis=1)"
   ]
  },
  {
   "cell_type": "code",
   "execution_count": 329,
   "metadata": {},
   "outputs": [],
   "source": [
    "X = df['count_delay_per_tail_number']"
   ]
  },
  {
   "cell_type": "code",
   "execution_count": 330,
   "metadata": {},
   "outputs": [],
   "source": [
    "X_manual_scaled = (X - X.min(axis=0)) / (X.max(axis=0) - X.min(axis=0))"
   ]
  },
  {
   "cell_type": "code",
   "execution_count": 331,
   "metadata": {},
   "outputs": [],
   "source": [
    "del df['count_delay_per_tail_number']"
   ]
  },
  {
   "cell_type": "code",
   "execution_count": 332,
   "metadata": {},
   "outputs": [],
   "source": [
    "df = pd.concat([df,X_manual_scaled], axis=1)"
   ]
  },
  {
   "cell_type": "code",
   "execution_count": 333,
   "metadata": {},
   "outputs": [],
   "source": [
    "predictors = []"
   ]
  },
  {
   "cell_type": "code",
   "execution_count": 334,
   "metadata": {},
   "outputs": [],
   "source": [
    "predictors.append('count_of_flight_by_day_carrier_origin')"
   ]
  },
  {
   "cell_type": "code",
   "execution_count": 335,
   "metadata": {},
   "outputs": [],
   "source": [
    "dummy_list = list(dummy_month.columns)\n",
    "dummy_list.extend(list(dummy_hour.columns))"
   ]
  },
  {
   "cell_type": "code",
   "execution_count": 336,
   "metadata": {},
   "outputs": [],
   "source": [
    "predictors.extend(dummy_list)"
   ]
  },
  {
   "cell_type": "code",
   "execution_count": 337,
   "metadata": {},
   "outputs": [],
   "source": [
    "predictors.remove('Hour_1')"
   ]
  },
  {
   "cell_type": "code",
   "execution_count": 338,
   "metadata": {},
   "outputs": [],
   "source": [
    "predictors.append('rain_bool')"
   ]
  },
  {
   "cell_type": "code",
   "execution_count": 339,
   "metadata": {},
   "outputs": [],
   "source": [
    "predictors.append('new_snow_bool')"
   ]
  },
  {
   "cell_type": "code",
   "execution_count": 340,
   "metadata": {},
   "outputs": [],
   "source": [
    "predictors.append('count_delay_per_tail_number')"
   ]
  },
  {
   "cell_type": "code",
   "execution_count": 341,
   "metadata": {},
   "outputs": [
    {
     "data": {
      "text/plain": [
       "['count_of_flight_by_day_carrier_origin',\n",
       " 'Month_1',\n",
       " 'Month_2',\n",
       " 'Month_3',\n",
       " 'Month_4',\n",
       " 'Month_5',\n",
       " 'Month_6',\n",
       " 'Month_7',\n",
       " 'Month_8',\n",
       " 'Month_9',\n",
       " 'Month_10',\n",
       " 'Month_11',\n",
       " 'Month_12',\n",
       " 'Hour_5',\n",
       " 'Hour_6',\n",
       " 'Hour_7',\n",
       " 'Hour_8',\n",
       " 'Hour_9',\n",
       " 'Hour_10',\n",
       " 'Hour_11',\n",
       " 'Hour_12',\n",
       " 'Hour_13',\n",
       " 'Hour_14',\n",
       " 'Hour_15',\n",
       " 'Hour_16',\n",
       " 'Hour_17',\n",
       " 'Hour_18',\n",
       " 'Hour_19',\n",
       " 'Hour_20',\n",
       " 'Hour_21',\n",
       " 'Hour_22',\n",
       " 'Hour_23',\n",
       " 'rain_bool',\n",
       " 'new_snow_bool',\n",
       " 'count_delay_per_tail_number']"
      ]
     },
     "execution_count": 341,
     "metadata": {},
     "output_type": "execute_result"
    }
   ],
   "source": [
    "predictors"
   ]
  },
  {
   "cell_type": "code",
   "execution_count": 342,
   "metadata": {},
   "outputs": [
    {
     "data": {
      "text/plain": [
       "LogisticRegression()"
      ]
     },
     "execution_count": 342,
     "metadata": {},
     "output_type": "execute_result"
    }
   ],
   "source": [
    "X = df[predictors]\n",
    "y = df['response_var']\n",
    "\n",
    "from sklearn.utils import shuffle\n",
    "X, y = shuffle(X, y)\n",
    "\n",
    "#creating train and testing set\n",
    "X_train, X_test, y_train, y_test = train_test_split(X, y, test_size = 0.2, random_state = 0, stratify = y)\n",
    "\n",
    "#Fitting Logistic Regression to the Training set with the first set of predictors.\n",
    "classifier1 = LogisticRegression()\n",
    "classifier1.fit(X_train, y_train)"
   ]
  },
  {
   "cell_type": "code",
   "execution_count": 343,
   "metadata": {
    "scrolled": true
   },
   "outputs": [],
   "source": [
    "#examine the model coefficients for the explanatory variables\n",
    "#print(predictors)\n",
    "#print(classifier1.coef_)\n",
    "\n",
    "# Cross validation.\n",
    "accuracy_list = []\n",
    "recall_list = []\n",
    "auc_list = []\n",
    "f1_list = []\n",
    "precision_list = []\n",
    "\n",
    "# Metrics for testing set\n",
    "recall_testing = []\n",
    "f1_testing = []\n",
    "precision_testing = []\n",
    "acc_testing = []\n",
    "\n",
    "accuracy = cross_val_score(classifier1, X_train, y_train, scoring = \"accuracy\", cv = 5)\n",
    "recall = cross_val_score(classifier1, X_train, y_train, scoring = \"recall\", cv = 5)\n",
    "auc = cross_val_score(classifier1, X_train, y_train, scoring = \"roc_auc\", cv = 5)\n",
    "f1 = cross_val_score(classifier1, X_train, y_train, scoring = \"f1\", cv = 5)\n",
    "precision = cross_val_score(classifier1, X_train, y_train, scoring = \"precision\", cv = 5)\n",
    "\n",
    "accuracy_list.append(accuracy.mean())\n",
    "recall_list.append(recall.mean())\n",
    "auc_list.append(auc.mean())\n",
    "f1_list.append(f1.mean())\n",
    "precision_list.append(precision.mean())"
   ]
  },
  {
   "cell_type": "code",
   "execution_count": 344,
   "metadata": {},
   "outputs": [],
   "source": [
    "y_pred = classifier1.predict(X_test)\n",
    "precision_testing.append(np.mean(metrics.precision_score(y_test, y_pred)))\n",
    "recall_testing.append(np.mean(metrics.recall_score(y_test, y_pred)))\n",
    "f1_testing.append(np.mean(metrics.f1_score(y_test, y_pred)))\n",
    "acc_testing.append(np.mean(metrics.accuracy_score(y_test,y_pred)))"
   ]
  },
  {
   "cell_type": "code",
   "execution_count": 345,
   "metadata": {
    "scrolled": false
   },
   "outputs": [
    {
     "name": "stdout",
     "output_type": "stream",
     "text": [
      "Optimization terminated successfully.\n",
      "         Current function value: 0.609792\n",
      "         Iterations 6\n"
     ]
    }
   ],
   "source": [
    "import statsmodels.api as sm\n",
    "logit_model=sm.Logit(y,X)\n",
    "result=logit_model.fit()\n",
    "#print(result.summary2())"
   ]
  },
  {
   "cell_type": "code",
   "execution_count": 346,
   "metadata": {},
   "outputs": [
    {
     "data": {
      "text/plain": [
       "array([[32964,  5751],\n",
       "       [14419,  7616]], dtype=int64)"
      ]
     },
     "execution_count": 346,
     "metadata": {},
     "output_type": "execute_result"
    }
   ],
   "source": [
    "from sklearn.metrics import confusion_matrix\n",
    "y_pred = classifier1.predict(X_test)\n",
    "confusion_matrix(y_test, y_pred)"
   ]
  },
  {
   "cell_type": "code",
   "execution_count": 347,
   "metadata": {},
   "outputs": [
    {
     "data": {
      "image/png": "[encoded data removed]",
      "text/plain": [
       "<Figure size 432x288 with 2 Axes>"
      ]
     },
     "metadata": {
      "needs_background": "light"
     },
     "output_type": "display_data"
    }
   ],
   "source": [
    "from sklearn.metrics import confusion_matrix\n",
    "from sklearn.metrics import ConfusionMatrixDisplay\n",
    "\n",
    "#y_pred = clf.predict(X_test)\n",
    "cm = confusion_matrix(y_test, y_pred)\n",
    "\n",
    "cm_display = ConfusionMatrixDisplay(cm).plot()"
   ]
  },
  {
   "cell_type": "code",
   "execution_count": 348,
   "metadata": {},
   "outputs": [],
   "source": [
    "from sklearn.ensemble import RandomForestClassifier\n",
    "from sklearn.model_selection import GridSearchCV\n",
    "\n",
    "#defining the scorer\n",
    "f1_scorer = metrics.make_scorer(metrics.f1_score)\n",
    "parameters = {'max_depth':np.arange(5,10),'class_weight':['balanced','none']}"
   ]
  },
  {
   "cell_type": "code",
   "execution_count": 349,
   "metadata": {},
   "outputs": [],
   "source": [
    "# perform grid search to find best hyperparameters\n",
    "#random_f = RandomForestClassifier()\n",
    "#grid = GridSearchCV(random_f, parameters, scoring = f1_scorer, cv = 5, n_jobs = -1)\n",
    "#grid.fit(X_train, y_train)\n",
    "#model_est = grid.best_estimator_\n",
    "#model_params = grid.best_params_\n",
    "#grid.best_params_"
   ]
  },
  {
   "cell_type": "code",
   "execution_count": 350,
   "metadata": {},
   "outputs": [
    {
     "data": {
      "text/plain": [
       "RandomForestClassifier(class_weight='balanced', max_depth=6, random_state=42)"
      ]
     },
     "execution_count": 350,
     "metadata": {},
     "output_type": "execute_result"
    }
   ],
   "source": [
    "# Random forest with my favourite state, state 42\n",
    "rfc = RandomForestClassifier(random_state = 42, class_weight = 'balanced', max_depth = 6)\n",
    "rfc.fit(X_train, y_train)"
   ]
  },
  {
   "cell_type": "code",
   "execution_count": 351,
   "metadata": {},
   "outputs": [],
   "source": [
    "# Storing in the results \n",
    "recall_list.append(np.mean(cross_val_score(rfc,  X_train, y_train, scoring = 'recall', cv = 5)))\n",
    "f1_list.append(np.mean(cross_val_score(rfc,  X_train, y_train, scoring = 'f1', cv = 5)))\n",
    "precision_list.append(np.mean(cross_val_score(rfc,  X_train, y_train, scoring = 'precision', cv = 5)))\n",
    "accuracy_list.append(np.mean(cross_val_score(rfc,  X_train, y_train, scoring = 'accuracy', cv = 5)))\n",
    "auc_list.append(np.mean(cross_val_score(rfc, X_train, y_train, scoring = \"roc_auc\", cv = 5)))"
   ]
  },
  {
   "cell_type": "code",
   "execution_count": 352,
   "metadata": {},
   "outputs": [
    {
     "data": {
      "text/plain": [
       "array([[19927, 18788],\n",
       "       [ 5485, 16550]], dtype=int64)"
      ]
     },
     "execution_count": 352,
     "metadata": {},
     "output_type": "execute_result"
    }
   ],
   "source": [
    "# on the testing set and store results\n",
    "y_pred = rfc.predict(X_test)\n",
    "#y_pred = rfc.predict_proba(X_test)[:,0]<.55\n",
    "precision_testing.append(np.mean(metrics.precision_score(y_test, y_pred)))\n",
    "recall_testing.append(np.mean(metrics.recall_score(y_test, y_pred)))\n",
    "f1_testing.append(np.mean(metrics.f1_score(y_test, y_pred)))\n",
    "acc_testing.append(np.mean(metrics.accuracy_score(y_test,y_pred)))\n",
    "confusion_matrix(y_test, y_pred)"
   ]
  },
  {
   "cell_type": "code",
   "execution_count": 353,
   "metadata": {
    "scrolled": true
   },
   "outputs": [
    {
     "data": {
      "image/png": "[encoded data removed]",
      "text/plain": [
       "<Figure size 432x288 with 2 Axes>"
      ]
     },
     "metadata": {
      "needs_background": "light"
     },
     "output_type": "display_data"
    }
   ],
   "source": [
    "y_pred = rfc.predict(X_test)\n",
    "cm = confusion_matrix(y_test, y_pred)\n",
    "\n",
    "cm_display = ConfusionMatrixDisplay(cm).plot()"
   ]
  },
  {
   "cell_type": "code",
   "execution_count": 354,
   "metadata": {
    "scrolled": true
   },
   "outputs": [],
   "source": [
    "#np.where(df['dep_delay']> 0, 1, 0) \n",
    "#y_pred = rfc.predict_proba(X_test)[:,0]<.55 "
   ]
  },
  {
   "cell_type": "code",
   "execution_count": 355,
   "metadata": {},
   "outputs": [
    {
     "data": {
      "text/plain": [
       "array([1, 1, 0, ..., 0, 0, 0])"
      ]
     },
     "execution_count": 355,
     "metadata": {},
     "output_type": "execute_result"
    }
   ],
   "source": [
    "y_pred = rfc.predict(X_test)\n",
    "y_pred"
   ]
  },
  {
   "cell_type": "code",
   "execution_count": 356,
   "metadata": {},
   "outputs": [
    {
     "data": {
      "text/plain": [
       "array([[26940, 11775],\n",
       "       [ 9326, 12709]], dtype=int64)"
      ]
     },
     "execution_count": 356,
     "metadata": {},
     "output_type": "execute_result"
    },
    {
     "data": {
      "image/png": "[encoded data removed]",
      "text/plain": [
       "<Figure size 432x288 with 2 Axes>"
      ]
     },
     "metadata": {
      "needs_background": "light"
     },
     "output_type": "display_data"
    }
   ],
   "source": [
    "y_pred = rfc.predict_proba(X_test)[:,0]<.48 \n",
    "#y_pred = rfc.predict(X_test)\n",
    "cm = confusion_matrix(y_test, y_pred)\n",
    "cm_display = ConfusionMatrixDisplay(cm).plot()\n",
    "cm"
   ]
  },
  {
   "cell_type": "code",
   "execution_count": 357,
   "metadata": {},
   "outputs": [
    {
     "data": {
      "text/plain": [
       "0.3627085610440233"
      ]
     },
     "execution_count": 357,
     "metadata": {},
     "output_type": "execute_result"
    }
   ],
   "source": [
    "sum(df['response_var'])/df['response_var'].count()"
   ]
  },
  {
   "cell_type": "code",
   "execution_count": 358,
   "metadata": {},
   "outputs": [],
   "source": [
    "import xgboost as xgb"
   ]
  },
  {
   "cell_type": "code",
   "execution_count": 359,
   "metadata": {},
   "outputs": [],
   "source": [
    "D_train = xgb.DMatrix(X_train, label=y_train)\n",
    "D_test = xgb.DMatrix(X_test, label=y_test)"
   ]
  },
  {
   "cell_type": "code",
   "execution_count": 360,
   "metadata": {},
   "outputs": [],
   "source": [
    "param = {\n",
    "    'eta': 1, \n",
    "    'max_depth': 7,  \n",
    "    'objective': 'multi:softprob',\n",
    "#    'objective': 'binary:logistic',\n",
    "    'num_class': 2} \n",
    "\n",
    "steps = 40  # The number of training iterations"
   ]
  },
  {
   "cell_type": "code",
   "execution_count": 361,
   "metadata": {},
   "outputs": [
    {
     "name": "stdout",
     "output_type": "stream",
     "text": [
      "[21:53:34] WARNING: C:/Users/Administrator/workspace/xgboost-win64_release_1.4.0/src/learner.cc:1095: Starting in XGBoost 1.3.0, the default evaluation metric used with the objective 'multi:softprob' was changed from 'merror' to 'mlogloss'. Explicitly set eval_metric if you'd like to restore the old behavior.\n"
     ]
    }
   ],
   "source": [
    "model = xgb.train(param, D_train, steps)"
   ]
  },
  {
   "cell_type": "code",
   "execution_count": 362,
   "metadata": {},
   "outputs": [
    {
     "data": {
      "text/plain": [
       "array([[32458,  6257],\n",
       "       [12649,  9386]], dtype=int64)"
      ]
     },
     "execution_count": 362,
     "metadata": {},
     "output_type": "execute_result"
    }
   ],
   "source": [
    "preds = model.predict(D_test)\n",
    "best_preds = np.asarray([np.argmax(line) for line in preds])\n",
    "confusion_matrix(y_test, best_preds)"
   ]
  },
  {
   "cell_type": "code",
   "execution_count": 363,
   "metadata": {},
   "outputs": [
    {
     "data": {
      "text/plain": [
       "array([[32458,  6257],\n",
       "       [12649,  9386]], dtype=int64)"
      ]
     },
     "execution_count": 363,
     "metadata": {},
     "output_type": "execute_result"
    }
   ],
   "source": [
    "from sklearn.metrics import precision_score, recall_score, accuracy_score, roc_auc_score, f1_score\n",
    "preds = model.predict(D_test)\n",
    "best_preds = np.asarray([np.argmax(line) for line in preds])\n",
    "\n",
    "precision_list.append(format(precision_score(y_test, best_preds, average='macro')))\n",
    "recall_list.append(format(recall_score(y_test, best_preds, average='macro')))\n",
    "accuracy_list.append(format(accuracy_score(y_test, best_preds)))\n",
    "auc_list.append(format(roc_auc_score(y_test, best_preds)))\n",
    "f1_list.append(format(f1_score(y_test, best_preds)))\n",
    "\n",
    "precision_testing.append(np.mean(metrics.precision_score(y_test, best_preds)))\n",
    "recall_testing.append(np.mean(metrics.recall_score(y_test, best_preds)))\n",
    "f1_testing.append(np.mean(metrics.f1_score(y_test, best_preds)))\n",
    "acc_testing.append(np.mean(metrics.accuracy_score(y_test,best_preds)))\n",
    "confusion_matrix(y_test, best_preds)"
   ]
  },
  {
   "cell_type": "code",
   "execution_count": 364,
   "metadata": {},
   "outputs": [
    {
     "name": "stdout",
     "output_type": "stream",
     "text": [
      "\t \t The Model Metric Matrix for the training set\n"
     ]
    },
    {
     "data": {
      "text/html": [
       "<div>\n",
       "<style scoped>\n",
       "    .dataframe tbody tr th:only-of-type {\n",
       "        vertical-align: middle;\n",
       "    }\n",
       "\n",
       "    .dataframe tbody tr th {\n",
       "        vertical-align: top;\n",
       "    }\n",
       "\n",
       "    .dataframe thead th {\n",
       "        text-align: right;\n",
       "    }\n",
       "</style>\n",
       "<table border=\"1\" class=\"dataframe\">\n",
       "  <thead>\n",
       "    <tr style=\"text-align: right;\">\n",
       "      <th></th>\n",
       "      <th>Model #</th>\n",
       "      <th>Recall</th>\n",
       "      <th>Accuracy</th>\n",
       "      <th>Precision</th>\n",
       "      <th>AUC</th>\n",
       "      <th>F1_score</th>\n",
       "    </tr>\n",
       "  </thead>\n",
       "  <tbody>\n",
       "    <tr>\n",
       "      <th>0</th>\n",
       "      <td>Log Regression</td>\n",
       "      <td>0.340311</td>\n",
       "      <td>0.665771</td>\n",
       "      <td>0.56519</td>\n",
       "      <td>0.676233</td>\n",
       "      <td>0.42482</td>\n",
       "    </tr>\n",
       "    <tr>\n",
       "      <th>1</th>\n",
       "      <td>Random Forest Model</td>\n",
       "      <td>0.741755</td>\n",
       "      <td>0.601075</td>\n",
       "      <td>0.468489</td>\n",
       "      <td>0.681348</td>\n",
       "      <td>0.574237</td>\n",
       "    </tr>\n",
       "    <tr>\n",
       "      <th>2</th>\n",
       "      <td>XGB</td>\n",
       "      <td>0.6321708788640382</td>\n",
       "      <td>0.6887901234567901</td>\n",
       "      <td>0.6597953389189657</td>\n",
       "      <td>0.6321708788640381</td>\n",
       "      <td>0.4982217739795106</td>\n",
       "    </tr>\n",
       "  </tbody>\n",
       "</table>\n",
       "</div>"
      ],
      "text/plain": [
       "                Model #              Recall            Accuracy  \\\n",
       "0        Log Regression            0.340311            0.665771   \n",
       "1  Random Forest Model             0.741755            0.601075   \n",
       "2                   XGB  0.6321708788640382  0.6887901234567901   \n",
       "\n",
       "            Precision                 AUC            F1_score  \n",
       "0             0.56519            0.676233             0.42482  \n",
       "1            0.468489            0.681348            0.574237  \n",
       "2  0.6597953389189657  0.6321708788640381  0.4982217739795106  "
      ]
     },
     "execution_count": 364,
     "metadata": {},
     "output_type": "execute_result"
    }
   ],
   "source": [
    "print(\"\\t \\t The Model Metric Matrix for the training set\")\n",
    "# Cross validation.\n",
    "metrics_summary = pd.DataFrame()\n",
    "metrics_summary['Model #'] = [ 'Log Regression', 'Random Forest Model ','XGB']\n",
    "metrics_summary['Recall'] = recall_list\n",
    "metrics_summary['Accuracy'] = accuracy_list\n",
    "metrics_summary['Precision'] = precision_list\n",
    "metrics_summary['AUC'] = auc_list\n",
    "metrics_summary['F1_score'] = f1_list\n",
    "metrics_summary1 = metrics_summary.copy()\n",
    "metrics_summary1"
   ]
  },
  {
   "cell_type": "code",
   "execution_count": 365,
   "metadata": {
    "scrolled": true
   },
   "outputs": [
    {
     "data": {
      "text/plain": [
       "array([[32458,  6257],\n",
       "       [12649,  9386]], dtype=int64)"
      ]
     },
     "execution_count": 365,
     "metadata": {},
     "output_type": "execute_result"
    }
   ],
   "source": [
    "confusion_matrix(y_test, best_preds)"
   ]
  },
  {
   "cell_type": "code",
   "execution_count": 366,
   "metadata": {},
   "outputs": [
    {
     "data": {
      "image/png": "[encoded data removed]",
      "text/plain": [
       "<Figure size 432x288 with 2 Axes>"
      ]
     },
     "metadata": {
      "needs_background": "light"
     },
     "output_type": "display_data"
    }
   ],
   "source": [
    "cm = confusion_matrix(y_test, best_preds)\n",
    "\n",
    "cm_display = ConfusionMatrixDisplay(cm).plot()"
   ]
  },
  {
   "cell_type": "code",
   "execution_count": 367,
   "metadata": {},
   "outputs": [
    {
     "name": "stdout",
     "output_type": "stream",
     "text": [
      "\t \t The Model Metric Matrix for the testing set\n"
     ]
    },
    {
     "data": {
      "text/html": [
       "<div>\n",
       "<style scoped>\n",
       "    .dataframe tbody tr th:only-of-type {\n",
       "        vertical-align: middle;\n",
       "    }\n",
       "\n",
       "    .dataframe tbody tr th {\n",
       "        vertical-align: top;\n",
       "    }\n",
       "\n",
       "    .dataframe thead th {\n",
       "        text-align: right;\n",
       "    }\n",
       "</style>\n",
       "<table border=\"1\" class=\"dataframe\">\n",
       "  <thead>\n",
       "    <tr style=\"text-align: right;\">\n",
       "      <th></th>\n",
       "      <th>Model #</th>\n",
       "      <th>Recall</th>\n",
       "      <th>Accuracy</th>\n",
       "      <th>Precision</th>\n",
       "      <th>F1_score</th>\n",
       "    </tr>\n",
       "  </thead>\n",
       "  <tbody>\n",
       "    <tr>\n",
       "      <th>0</th>\n",
       "      <td>Logistic Regression</td>\n",
       "      <td>0.345632</td>\n",
       "      <td>0.667984</td>\n",
       "      <td>0.569761</td>\n",
       "      <td>0.430258</td>\n",
       "    </tr>\n",
       "    <tr>\n",
       "      <th>1</th>\n",
       "      <td>Random Forest Model</td>\n",
       "      <td>0.751078</td>\n",
       "      <td>0.600444</td>\n",
       "      <td>0.468334</td>\n",
       "      <td>0.576926</td>\n",
       "    </tr>\n",
       "    <tr>\n",
       "      <th>2</th>\n",
       "      <td>XGB</td>\n",
       "      <td>0.425959</td>\n",
       "      <td>0.688790</td>\n",
       "      <td>0.600013</td>\n",
       "      <td>0.498222</td>\n",
       "    </tr>\n",
       "  </tbody>\n",
       "</table>\n",
       "</div>"
      ],
      "text/plain": [
       "                Model #    Recall  Accuracy  Precision  F1_score\n",
       "0   Logistic Regression  0.345632  0.667984   0.569761  0.430258\n",
       "1  Random Forest Model   0.751078  0.600444   0.468334  0.576926\n",
       "2                   XGB  0.425959  0.688790   0.600013  0.498222"
      ]
     },
     "execution_count": 367,
     "metadata": {},
     "output_type": "execute_result"
    }
   ],
   "source": [
    "#precision_testing.append(format(precision_score(y_test, best_preds, average='macro')))\n",
    "#recall_testing.append(format(recall_score(y_test, best_preds, average='macro')))\n",
    "#acc_testing.append(format(accuracy_score(y_test, best_preds)))\n",
    "\n",
    "\n",
    "print(\"\\t \\t The Model Metric Matrix for the testing set\")\n",
    "# Cross validation.\n",
    "metrics_summary_test = pd.DataFrame()\n",
    "metrics_summary_test['Model #'] = ['Logistic Regression','Random Forest Model ','XGB']\n",
    "metrics_summary_test['Recall'] = recall_testing\n",
    "metrics_summary_test['Accuracy'] = acc_testing\n",
    "metrics_summary_test['Precision'] = precision_testing\n",
    "#metrics_summary_test['AUC'] = auc_list\n",
    "metrics_summary_test['F1_score'] = f1_testing\n",
    "metrics_summary2 = metrics_summary_test.copy()\n",
    "metrics_summary2"
   ]
  },
  {
   "cell_type": "code",
   "execution_count": 368,
   "metadata": {},
   "outputs": [],
   "source": [
    "from sklearn.ensemble import  StackingClassifier"
   ]
  },
  {
   "cell_type": "code",
   "execution_count": 369,
   "metadata": {},
   "outputs": [],
   "source": [
    "# define the 3 models as estimators for Stacking\n",
    "#estimators = [('rfc', rfc),('xgb', model)]\n",
    "estimators = [\n",
    "                 ('rf_1', RandomForestClassifier(n_estimators=6, random_state=42)),\n",
    "                 ('rf_2', LogisticRegression())             \n",
    "                ]"
   ]
  },
  {
   "cell_type": "code",
   "execution_count": 370,
   "metadata": {},
   "outputs": [
    {
     "data": {
      "text/plain": [
       "StackingClassifier(estimators=[('rf_1',\n",
       "                                RandomForestClassifier(n_estimators=6,\n",
       "                                                       random_state=42)),\n",
       "                               ('rf_2', LogisticRegression())],\n",
       "                   final_estimator=LogisticRegression())"
      ]
     },
     "execution_count": 370,
     "metadata": {},
     "output_type": "execute_result"
    }
   ],
   "source": [
    "ensemble = StackingClassifier(estimators=estimators, final_estimator=LogisticRegression())\n",
    "ensemble.fit(X_train, y_train)"
   ]
  },
  {
   "cell_type": "code",
   "execution_count": 371,
   "metadata": {},
   "outputs": [],
   "source": [
    "recall_list.append(np.mean(cross_val_score(ensemble,  X_train, y_train, scoring = 'recall', cv = 5)))\n",
    "f1_list.append(np.mean(cross_val_score(ensemble,  X_train, y_train, scoring = 'f1', cv = 5)))\n",
    "precision_list.append(np.mean(cross_val_score(ensemble,  X_train, y_train, scoring = 'precision', cv = 5)))\n",
    "accuracy_list.append(np.mean(cross_val_score(ensemble,  X_train, y_train, scoring = 'accuracy', cv = 5)))\n",
    "auc_list.append(np.mean(cross_val_score(ensemble, X_train, y_train, scoring = \"roc_auc\", cv = 5)))"
   ]
  },
  {
   "cell_type": "code",
   "execution_count": 372,
   "metadata": {},
   "outputs": [],
   "source": [
    "y_pred = ensemble.predict(X_test)\n",
    "precision_testing.append(np.mean(metrics.precision_score(y_test, y_pred)))\n",
    "recall_testing.append(np.mean(metrics.recall_score(y_test, y_pred)))\n",
    "f1_testing.append(np.mean(metrics.f1_score(y_test, y_pred)))\n",
    "acc_testing.append(np.mean(metrics.accuracy_score(y_test,y_pred)))"
   ]
  },
  {
   "cell_type": "code",
   "execution_count": 373,
   "metadata": {},
   "outputs": [
    {
     "data": {
      "image/png": "[encoded data removed]",
      "text/plain": [
       "<Figure size 432x288 with 2 Axes>"
      ]
     },
     "metadata": {
      "needs_background": "light"
     },
     "output_type": "display_data"
    }
   ],
   "source": [
    "y_pred = ensemble.predict(X_test)\n",
    "cm = confusion_matrix(y_test, y_pred)\n",
    "\n",
    "cm_display = ConfusionMatrixDisplay(cm).plot()"
   ]
  },
  {
   "cell_type": "code",
   "execution_count": 374,
   "metadata": {},
   "outputs": [
    {
     "name": "stdout",
     "output_type": "stream",
     "text": [
      "\t \t The Model Metric Matrix for the training set\n"
     ]
    },
    {
     "data": {
      "text/html": [
       "<div>\n",
       "<style scoped>\n",
       "    .dataframe tbody tr th:only-of-type {\n",
       "        vertical-align: middle;\n",
       "    }\n",
       "\n",
       "    .dataframe tbody tr th {\n",
       "        vertical-align: top;\n",
       "    }\n",
       "\n",
       "    .dataframe thead th {\n",
       "        text-align: right;\n",
       "    }\n",
       "</style>\n",
       "<table border=\"1\" class=\"dataframe\">\n",
       "  <thead>\n",
       "    <tr style=\"text-align: right;\">\n",
       "      <th></th>\n",
       "      <th>Model #</th>\n",
       "      <th>Recall</th>\n",
       "      <th>Accuracy</th>\n",
       "      <th>Precision</th>\n",
       "      <th>AUC</th>\n",
       "      <th>F1_score</th>\n",
       "    </tr>\n",
       "  </thead>\n",
       "  <tbody>\n",
       "    <tr>\n",
       "      <th>0</th>\n",
       "      <td>Log Regression</td>\n",
       "      <td>0.340311</td>\n",
       "      <td>0.665771</td>\n",
       "      <td>0.56519</td>\n",
       "      <td>0.676233</td>\n",
       "      <td>0.42482</td>\n",
       "    </tr>\n",
       "    <tr>\n",
       "      <th>1</th>\n",
       "      <td>Random Forest Model</td>\n",
       "      <td>0.741755</td>\n",
       "      <td>0.601075</td>\n",
       "      <td>0.468489</td>\n",
       "      <td>0.681348</td>\n",
       "      <td>0.574237</td>\n",
       "    </tr>\n",
       "    <tr>\n",
       "      <th>2</th>\n",
       "      <td>XGB</td>\n",
       "      <td>0.6321708788640382</td>\n",
       "      <td>0.6887901234567901</td>\n",
       "      <td>0.6597953389189657</td>\n",
       "      <td>0.6321708788640381</td>\n",
       "      <td>0.4982217739795106</td>\n",
       "    </tr>\n",
       "    <tr>\n",
       "      <th>3</th>\n",
       "      <td>ensemble</td>\n",
       "      <td>0.357943</td>\n",
       "      <td>0.676187</td>\n",
       "      <td>0.588103</td>\n",
       "      <td>0.690495</td>\n",
       "      <td>0.445022</td>\n",
       "    </tr>\n",
       "  </tbody>\n",
       "</table>\n",
       "</div>"
      ],
      "text/plain": [
       "                Model #              Recall            Accuracy  \\\n",
       "0        Log Regression            0.340311            0.665771   \n",
       "1  Random Forest Model             0.741755            0.601075   \n",
       "2                   XGB  0.6321708788640382  0.6887901234567901   \n",
       "3              ensemble            0.357943            0.676187   \n",
       "\n",
       "            Precision                 AUC            F1_score  \n",
       "0             0.56519            0.676233             0.42482  \n",
       "1            0.468489            0.681348            0.574237  \n",
       "2  0.6597953389189657  0.6321708788640381  0.4982217739795106  \n",
       "3            0.588103            0.690495            0.445022  "
      ]
     },
     "execution_count": 374,
     "metadata": {},
     "output_type": "execute_result"
    }
   ],
   "source": [
    "\n",
    "\n",
    "print(\"\\t \\t The Model Metric Matrix for the training set\")\n",
    "# Cross validation.\n",
    "metrics_summary = pd.DataFrame()\n",
    "metrics_summary['Model #'] = [ 'Log Regression', 'Random Forest Model ','XGB','ensemble']\n",
    "metrics_summary['Recall'] = recall_list\n",
    "metrics_summary['Accuracy'] = accuracy_list\n",
    "metrics_summary['Precision'] = precision_list\n",
    "metrics_summary['AUC'] = auc_list\n",
    "metrics_summary['F1_score'] = f1_list\n",
    "metrics_summary1 = metrics_summary.copy()\n",
    "metrics_summary1"
   ]
  },
  {
   "cell_type": "code",
   "execution_count": 376,
   "metadata": {
    "scrolled": false
   },
   "outputs": [
    {
     "name": "stdout",
     "output_type": "stream",
     "text": [
      "\t \t The Model Metric Matrix for the testing set\n"
     ]
    },
    {
     "data": {
      "text/html": [
       "<div>\n",
       "<style scoped>\n",
       "    .dataframe tbody tr th:only-of-type {\n",
       "        vertical-align: middle;\n",
       "    }\n",
       "\n",
       "    .dataframe tbody tr th {\n",
       "        vertical-align: top;\n",
       "    }\n",
       "\n",
       "    .dataframe thead th {\n",
       "        text-align: right;\n",
       "    }\n",
       "</style>\n",
       "<table border=\"1\" class=\"dataframe\">\n",
       "  <thead>\n",
       "    <tr style=\"text-align: right;\">\n",
       "      <th></th>\n",
       "      <th>Model #</th>\n",
       "      <th>Recall</th>\n",
       "      <th>Accuracy</th>\n",
       "      <th>Precision</th>\n",
       "      <th>F1_score</th>\n",
       "    </tr>\n",
       "  </thead>\n",
       "  <tbody>\n",
       "    <tr>\n",
       "      <th>0</th>\n",
       "      <td>Log</td>\n",
       "      <td>0.345632</td>\n",
       "      <td>0.667984</td>\n",
       "      <td>0.569761</td>\n",
       "      <td>0.430258</td>\n",
       "    </tr>\n",
       "    <tr>\n",
       "      <th>1</th>\n",
       "      <td>Random Forest Model</td>\n",
       "      <td>0.751078</td>\n",
       "      <td>0.600444</td>\n",
       "      <td>0.468334</td>\n",
       "      <td>0.576926</td>\n",
       "    </tr>\n",
       "    <tr>\n",
       "      <th>2</th>\n",
       "      <td>XGB</td>\n",
       "      <td>0.425959</td>\n",
       "      <td>0.688790</td>\n",
       "      <td>0.600013</td>\n",
       "      <td>0.498222</td>\n",
       "    </tr>\n",
       "    <tr>\n",
       "      <th>3</th>\n",
       "      <td>ensemble</td>\n",
       "      <td>0.360608</td>\n",
       "      <td>0.676971</td>\n",
       "      <td>0.589422</td>\n",
       "      <td>0.447460</td>\n",
       "    </tr>\n",
       "  </tbody>\n",
       "</table>\n",
       "</div>"
      ],
      "text/plain": [
       "                Model #    Recall  Accuracy  Precision  F1_score\n",
       "0                   Log  0.345632  0.667984   0.569761  0.430258\n",
       "1  Random Forest Model   0.751078  0.600444   0.468334  0.576926\n",
       "2                   XGB  0.425959  0.688790   0.600013  0.498222\n",
       "3              ensemble  0.360608  0.676971   0.589422  0.447460"
      ]
     },
     "execution_count": 376,
     "metadata": {},
     "output_type": "execute_result"
    }
   ],
   "source": [
    "print(\"\\t \\t The Model Metric Matrix for the testing set\")\n",
    "# Cross validation.\n",
    "metrics_summary_test = pd.DataFrame()\n",
    "metrics_summary_test['Model #'] = ['Log','Random Forest Model ','XGB','ensemble']\n",
    "metrics_summary_test['Recall'] = recall_testing\n",
    "metrics_summary_test['Accuracy'] = acc_testing\n",
    "metrics_summary_test['Precision'] = precision_testing\n",
    "metrics_summary_test['F1_score'] = f1_testing\n",
    "metrics_summary2 = metrics_summary_test.copy()\n",
    "metrics_summary2"
   ]
  }
 ],
 "metadata": {
  "kernelspec": {
   "display_name": "Python 3",
   "language": "python",
   "name": "python3"
  },
  "language_info": {
   "codemirror_mode": {
    "name": "ipython",
    "version": 3
   },
   "file_extension": ".py",
   "mimetype": "text/x-python",
   "name": "python",
   "nbconvert_exporter": "python",
   "pygments_lexer": "ipython3",
   "version": "3.8.3"
  }
 },
 "nbformat": 4,
 "nbformat_minor": 4
}
